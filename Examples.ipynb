{
 "cells": [
  {
   "cell_type": "markdown",
   "metadata": {},
   "source": [
    "Артем Жук, 399 группа\n",
    "### EM for PCA"
   ]
  },
  {
   "cell_type": "markdown",
   "metadata": {},
   "source": [
    "В данном репозитории реализованы две вариации ЕМ-алогоритма для анализа главных компонент. Статья с описанием выкладок: http://www.machinelearning.ru/wiki/images/7/73/BMMO11_11.pdf\n",
    "Интерфейсы классов следуют интерфейсу sklearn.decomposition.PCA."
   ]
  },
  {
   "cell_type": "markdown",
   "metadata": {},
   "source": [
    "#### EMPCA\n",
    "Класс EMPCA является реализацией ЕМ алгоритма для нахожения подпространста пространства признаков, порожденного первыми несколькими главными компонентами. Для всей выборки все признаки должны быть известны.  \n",
    "Эта реализация опирается на достаточно простые выкладки, а кроме того быстрее работает, чем более общая реализация EMPCAM."
   ]
  },
  {
   "cell_type": "code",
   "execution_count": 1,
   "metadata": {
    "collapsed": false
   },
   "outputs": [],
   "source": [
    "from empca import EMPCA\n",
    "from empca_missing import EMPCAM\n",
    "from sklearn.decomposition import PCA\n",
    "import numpy as np\n",
    "from utils import random_model, gram_schmidt, span_in, add_missing\n",
    "import matplotlib.pyplot as plt\n",
    "from copy import deepcopy\n",
    "%matplotlib inline"
   ]
  },
  {
   "cell_type": "markdown",
   "metadata": {},
   "source": [
    "Сгенерируем выборку. Метод random_model(N, D, d) генрирует выборку с распределением $W\\mathcal{N}(0, I_d) + \\mathcal{N}(0, \\varepsilon I_D), W\\in M(\\mathbb{R})^{D\\times d}$.  \n",
    "gram_schmidt(X) применяет алгоритм Грама-Шмидта к строкам Х."
   ]
  },
  {
   "cell_type": "code",
   "execution_count": 2,
   "metadata": {
    "collapsed": false
   },
   "outputs": [
    {
     "name": "stdout",
     "output_type": "stream",
     "text": [
      "W=\n",
      " [[-0.85485229 -9.00355259 -4.00781156  6.31671494 -9.60178239 -3.81100641]]\n",
      "X..=\n",
      " [[  1.6182935   10.32281627   4.20349939  -8.39849173  12.70737622\n",
      "    3.99254522]\n",
      " [ -1.22793086 -11.33278191  -5.21569077   8.41702116 -13.67561037\n",
      "   -6.69462473]\n",
      " [  1.85024655  21.93137987   9.0748674  -15.138955    21.60851581\n",
      "    7.46522157]\n",
      " [ -1.09154913  -6.98685412  -4.01741097   6.10683659  -7.88019929\n",
      "   -3.4617363 ]\n",
      " [  0.4288374    9.16409557   4.06387379  -5.9389176    9.01257099\n",
      "    4.16731994]]\n"
     ]
    }
   ],
   "source": [
    "X, W, T = random_model(30, 6, 1)\n",
    "print(\"W=\\n\", W)\n",
    "print(\"X..=\\n\", X[:5])"
   ]
  },
  {
   "cell_type": "markdown",
   "metadata": {},
   "source": [
    "Создадим экземпляр EMPCA и запустим на нашей выборке. Поле components_ содержит ортнормированный базис из n_components главных векторов."
   ]
  },
  {
   "cell_type": "code",
   "execution_count": 3,
   "metadata": {
    "collapsed": false
   },
   "outputs": [
    {
     "name": "stdout",
     "output_type": "stream",
     "text": [
      "basis:\n",
      " [[ 0.05662162  0.57332706  0.25715537 -0.40820355  0.61360856  0.24251926]]\n",
      "original basis:\n",
      " [[-0.05467299 -0.57583179 -0.25632386  0.40399223 -0.61409222 -0.24373697]]\n"
     ]
    }
   ],
   "source": [
    "empca = EMPCA(n_components=1, n_iter=100)\n",
    "empca.fit(X)\n",
    "print('basis:\\n', empca.components_)\n",
    "print('original basis:\\n', gram_schmidt(W))"
   ]
  },
  {
   "cell_type": "markdown",
   "metadata": {},
   "source": [
    "Как видим, алгоритм довольно точно определил направляющий вектор прямой, на которой лежат точки. Попробуем для плоскости:"
   ]
  },
  {
   "cell_type": "code",
   "execution_count": 4,
   "metadata": {
    "collapsed": false
   },
   "outputs": [
    {
     "name": "stdout",
     "output_type": "stream",
     "text": [
      "basis:\n",
      " [[ 0.05618932 -0.27472917  0.51519619 -0.71546956 -0.3177227  -0.1614336\n",
      "   0.13051554]]\n",
      "original basis:\n",
      " [[-0.1638554  -0.50739548  0.47664704 -0.38997256 -0.33562313 -0.15972129\n",
      "   0.44528245]\n",
      " [ 0.2803108  -0.31592475  0.62010988  0.48902392  0.37838196  0.18763068\n",
      "  -0.13985198]\n",
      " [-0.32051592 -0.33153867 -0.39957733  0.61035968  0.08326268 -0.16787984\n",
      "   0.4690782 ]\n",
      " [ 0.36649812  0.19535604 -0.03734086  0.14893668 -0.39250096  0.65668912\n",
      "   0.4675907 ]\n",
      " [ 0.7988208  -0.29562788 -0.31739265 -0.14303946  0.08737531 -0.36666347\n",
      "   0.10589879]]\n"
     ]
    }
   ],
   "source": [
    "X, W, T = random_model(60, 7, 5)\n",
    "empca = EMPCA(n_components=1, n_iter=100)\n",
    "empca.fit(X)\n",
    "print('basis:\\n', empca.components_)\n",
    "print('original basis:\\n', gram_schmidt(W))"
   ]
  },
  {
   "cell_type": "markdown",
   "metadata": {},
   "source": [
    "На этот раз сложнее проверить совпадение векторов. Однако для проверки корректности нам можно проверять не точное совпадение базисов, а совпадение подпростраств, на них натянутых. Для этого воспользуемся функцией span_in(A, B), проверяющей что строки А лежат в линейной оболочке строк B."
   ]
  },
  {
   "cell_type": "code",
   "execution_count": 5,
   "metadata": {
    "collapsed": false
   },
   "outputs": [
    {
     "name": "stdout",
     "output_type": "stream",
     "text": [
      "span_in:  True\n"
     ]
    }
   ],
   "source": [
    "print('span_in: ', span_in(empca.components_, gram_schmidt(W)))"
   ]
  },
  {
   "cell_type": "markdown",
   "metadata": {},
   "source": [
    "Сравним работу нашего преобразователя со стандартным sklearn.decomposition.PCA. Для этого сравним explained_variance_ratio_. Это доля дисперсии, приходящаяся на компоненту."
   ]
  },
  {
   "cell_type": "code",
   "execution_count": 6,
   "metadata": {
    "collapsed": false
   },
   "outputs": [
    {
     "name": "stdout",
     "output_type": "stream",
     "text": [
      "pca ratio:\n",
      " [ 0.04726277  0.04422113  0.03937364  0.03756874  0.03616933]\n",
      "empca ratio:\n",
      " [ 0.04726277  0.04422114  0.03937344  0.037568    0.03616941]\n"
     ]
    }
   ],
   "source": [
    "X, W, T = random_model(100, 500, 100)\n",
    "pca = PCA(n_components=5)\n",
    "empca = EMPCA(n_components=5, n_iter=100)\n",
    "\n",
    "pca.fit(X)\n",
    "empca.fit(X)\n",
    "\n",
    "print('pca ratio:\\n', pca.explained_variance_ratio_)\n",
    "print('empca ratio:\\n', empca.explained_variance_ratio_)"
   ]
  },
  {
   "cell_type": "markdown",
   "metadata": {},
   "source": [
    "Как видим, за 100 итераций численный алгоритм достаточно точно нашел пять главных векторов в 500 мерном пространстве. "
   ]
  },
  {
   "cell_type": "markdown",
   "metadata": {},
   "source": [
    "#### EMPCAM\n",
    "Этот класс реализует тот же алгоритм, но допускает пропуски в данных. \n"
   ]
  },
  {
   "cell_type": "markdown",
   "metadata": {},
   "source": [
    "Сгененрируем выборку с 20% пропущенных значений:"
   ]
  },
  {
   "cell_type": "code",
   "execution_count": 7,
   "metadata": {
    "collapsed": false
   },
   "outputs": [
    {
     "name": "stdout",
     "output_type": "stream",
     "text": [
      "X=\n",
      " [[  4.53996721  -5.7012577    1.30091377  -2.86279717   4.63943285\n",
      "   -6.25542259   4.94612155  -2.41060122  -4.66353206   2.01783791]\n",
      " [ -1.06874658   1.69626595  -0.94466258   1.62720177  -2.72380592\n",
      "    1.32699244  -1.72763846   1.77717669   1.72061072  -1.28265798]\n",
      " [  6.92101059  -5.398756     0.72430696  -4.10832248   5.32877444\n",
      "  -10.08345833   7.38894466  -4.08578152  -6.72287153   1.67226224]\n",
      " [  8.59045181  -5.14495601   1.11842857  -5.80302994   6.20229187\n",
      "  -11.28745687   7.3138748   -6.36879849  -7.86497901   2.68026023]\n",
      " [ -6.30607066   6.0103932   -1.83336143   3.19362182  -4.35977751\n",
      "    9.07614981  -5.26397329   5.7078552    6.2957795   -1.84814084]]\n"
     ]
    }
   ],
   "source": [
    "X, W, T = random_model(100, 10, 1)\n",
    "add_missing(X)\n",
    "print(\"X=\\n\", X[:5])"
   ]
  },
  {
   "cell_type": "markdown",
   "metadata": {},
   "source": [
    "И применим к ней алгоритм: "
   ]
  },
  {
   "cell_type": "code",
   "execution_count": 8,
   "metadata": {
    "collapsed": false
   },
   "outputs": [
    {
     "name": "stdout",
     "output_type": "stream",
     "text": [
      "found basis:  [[-0.38598372  0.31481935 -0.03077378  0.21888237 -0.26640489  0.50685171\n",
      "  -0.39119576  0.26614143  0.37184916 -0.11419908]]\n",
      "original basis:  [[ 0.38411306 -0.31940446  0.02884343 -0.21717681  0.26467583 -0.50708894\n",
      "   0.39311743 -0.26764242 -0.37045878  0.10878541]]\n",
      "A - B:  [-0.77009678  0.63422381 -0.05961721  0.43605918 -0.53108071  1.01394065\n",
      " -0.78431319  0.53378384  0.74230794 -0.2229845 ]\n",
      "diff =  1.99998215227\n"
     ]
    }
   ],
   "source": [
    "empcam = EMPCAM(n_components=1, n_iter=100)\n",
    "empcam.fit(X)\n",
    "A = empcam.components_\n",
    "B = gram_schmidt(W)\n",
    "print('found basis: ', A)\n",
    "print('original basis: ', B)\n",
    "d = A[0] - B[0]\n",
    "print('A - B: ', d)\n",
    "print('diff = ', np.linalg.norm(d))"
   ]
  },
  {
   "cell_type": "markdown",
   "metadata": {},
   "source": [
    "Как видим, нам удалось довольно точно восстановить исходную зависимость. "
   ]
  },
  {
   "cell_type": "markdown",
   "metadata": {},
   "source": [
    "Теперь построим модель с большим числом латентных переменных и проверим, что найденное подпрастранство попадает в пространство, натянутое на образы латентных переменных."
   ]
  },
  {
   "cell_type": "code",
   "execution_count": 9,
   "metadata": {
    "collapsed": false
   },
   "outputs": [
    {
     "name": "stdout",
     "output_type": "stream",
     "text": [
      "lies_inside:  True\n"
     ]
    }
   ],
   "source": [
    "X, W, T = random_model(100, 30, 5)\n",
    "add_missing(X, 0.1)\n",
    "empcam = EMPCAM(n_components=2, n_iter=200)\n",
    "empcam.fit(X)\n",
    "print('lies_inside: ', span_in(empcam.components_, gram_schmidt(W)))"
   ]
  },
  {
   "cell_type": "markdown",
   "metadata": {},
   "source": [
    "Теперь применим это для восстановления компонент. Сгенерируем выборку, а потом удалим 20% точек. \n",
    "Синие точки -- исходная выборка с шумом, красные -- восстановленная зависимость."
   ]
  },
  {
   "cell_type": "code",
   "execution_count": 14,
   "metadata": {
    "collapsed": false
   },
   "outputs": [
    {
     "name": "stderr",
     "output_type": "stream",
     "text": [
      "/home/arterm/anaconda3/lib/python3.4/site-packages/matplotlib/collections.py:590: FutureWarning: elementwise comparison failed; returning scalar instead, but in the future will perform elementwise comparison\n",
      "  if self._edgecolors == str('face'):\n"
     ]
    },
    {
     "data": {
      "image/png": "[encoded data removed]",
      "text/plain": [
       "<matplotlib.figure.Figure at 0x7f0f9dd58278>"
      ]
     },
     "metadata": {},
     "output_type": "display_data"
    }
   ],
   "source": [
    "W = np.array([[10, 10]]).T\n",
    "X, W, T = random_model(100, 2, 1, W=W, eps=2)\n",
    "\n",
    "Xt = deepcopy(X) # original data\n",
    "\n",
    "add_missing(X, .2) # deletes 20% of points\n",
    "empcam = EMPCAM(n_components=1, n_iter=100)\n",
    "empcam.fit(X)\n",
    "\n",
    "Xf = empcam.fill_missing(X)\n",
    "\n",
    "plt.figure(figsize=(10, 8))\n",
    "plt.scatter(Xt[:, 0], Xt[:, 1], c='b', cmap='summer', s=70)\n",
    "plt.scatter(Xf[:, 0], Xf[:, 1], c='r', cmap='summer', s=70)\n",
    "plt.show()\n",
    "\n",
    "\n"
   ]
  }
 ],
 "metadata": {
  "kernelspec": {
   "display_name": "Python 3",
   "language": "python",
   "name": "python3"
  },
  "language_info": {
   "codemirror_mode": {
    "name": "ipython",
    "version": 3
   },
   "file_extension": ".py",
   "mimetype": "text/x-python",
   "name": "python",
   "nbconvert_exporter": "python",
   "pygments_lexer": "ipython3",
   "version": "3.4.4"
  }
 },
 "nbformat": 4,
 "nbformat_minor": 0
}
